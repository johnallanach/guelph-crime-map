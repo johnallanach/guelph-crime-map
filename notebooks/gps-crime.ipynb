{
 "cells": [
  {
   "cell_type": "code",
   "execution_count": 1,
   "id": "e1897dcb",
   "metadata": {},
   "outputs": [],
   "source": [
    "import pandas as pd"
   ]
  },
  {
   "cell_type": "code",
   "execution_count": 70,
   "id": "94ba7191",
   "metadata": {},
   "outputs": [
    {
     "name": "stderr",
     "output_type": "stream",
     "text": [
      "C:\\Users\\Shane\\AppData\\Local\\Temp\\ipykernel_3856\\1759644331.py:2: DtypeWarning: Columns (0,5,8,9,18,19,20,21,22,23,24,25,26,27,28,29,30,31,32,33,34,35,36,37,38,39,40) have mixed types. Specify dtype option on import or set low_memory=False.\n",
      "  df_gps = pd.read_csv('..\\\\gitignore\\\\data\\\\GPS_Occurrence_Data_ALL.csv')\n"
     ]
    }
   ],
   "source": [
    "# read csv data into pandas dataframe\n",
    "df_gps = pd.read_csv('..\\\\gitignore\\\\data\\\\GPS_Occurrence_Data_ALL.csv')"
   ]
  },
  {
   "cell_type": "markdown",
   "id": "55c94e45",
   "metadata": {},
   "source": [
    "DATA EXPLORATION"
   ]
  },
  {
   "cell_type": "code",
   "execution_count": 73,
   "id": "d8a7019e",
   "metadata": {},
   "outputs": [
    {
     "name": "stdout",
     "output_type": "stream",
     "text": [
      "<class 'pandas.core.frame.DataFrame'>\n",
      "RangeIndex: 550072 entries, 0 to 550071\n",
      "Data columns (total 7 columns):\n",
      " #   Column          Non-Null Count   Dtype \n",
      "---  ------          --------------   ----- \n",
      " 0   City            549557 non-null  object\n",
      " 1   Address         549470 non-null  object\n",
      " 2   ReportedDate    550072 non-null  object\n",
      " 3   ReportedTime    550072 non-null  object\n",
      " 4   DispatchType    550063 non-null  object\n",
      " 5   OccurrenceType  550055 non-null  object\n",
      " 6   DelayTime       362976 non-null  object\n",
      "dtypes: object(7)\n",
      "memory usage: 29.4+ MB\n"
     ]
    }
   ],
   "source": [
    "df_gps.info()"
   ]
  },
  {
   "cell_type": "markdown",
   "id": "933ac490",
   "metadata": {},
   "source": [
    "DATA CLEANING"
   ]
  },
  {
   "cell_type": "code",
   "execution_count": 72,
   "id": "09ce2646",
   "metadata": {},
   "outputs": [],
   "source": [
    "#drop multiple columns by index\n",
    "droprange = [0, 5, 8, 9, 10, 11, 12] + list(range(14, 41))\n",
    "df_gps.drop(df_gps.columns[droprange], axis=1, inplace=True)"
   ]
  },
  {
   "cell_type": "code",
   "execution_count": 74,
   "id": "c2f36bbf",
   "metadata": {},
   "outputs": [
    {
     "data": {
      "text/html": [
       "<div>\n",
       "<style scoped>\n",
       "    .dataframe tbody tr th:only-of-type {\n",
       "        vertical-align: middle;\n",
       "    }\n",
       "\n",
       "    .dataframe tbody tr th {\n",
       "        vertical-align: top;\n",
       "    }\n",
       "\n",
       "    .dataframe thead th {\n",
       "        text-align: right;\n",
       "    }\n",
       "</style>\n",
       "<table border=\"1\" class=\"dataframe\">\n",
       "  <thead>\n",
       "    <tr style=\"text-align: right;\">\n",
       "      <th></th>\n",
       "      <th>City</th>\n",
       "      <th>Address</th>\n",
       "      <th>ReportedDate</th>\n",
       "      <th>ReportedTime</th>\n",
       "      <th>DispatchType</th>\n",
       "      <th>OccurrenceType</th>\n",
       "      <th>DelayTime</th>\n",
       "    </tr>\n",
       "  </thead>\n",
       "  <tbody>\n",
       "    <tr>\n",
       "      <th>0</th>\n",
       "      <td>GUELPH</td>\n",
       "      <td>GORDON ST</td>\n",
       "      <td>2021-01-01</td>\n",
       "      <td>0:06</td>\n",
       "      <td>0-COMPASSIONATE TO LOCATE\"</td>\n",
       "      <td>CHECK WELL-BEING</td>\n",
       "      <td>0:00:02:01</td>\n",
       "    </tr>\n",
       "    <tr>\n",
       "      <th>1</th>\n",
       "      <td>GUELPH</td>\n",
       "      <td>MULLIN DR</td>\n",
       "      <td>2021-01-01</td>\n",
       "      <td>0:09</td>\n",
       "      <td>ADMINISTRATIVE NOTICE (9-1-1 CALL)</td>\n",
       "      <td>CELL PHONE AUTO DIAL ERROR (9)</td>\n",
       "      <td>NaN</td>\n",
       "    </tr>\n",
       "    <tr>\n",
       "      <th>2</th>\n",
       "      <td>GUELPH</td>\n",
       "      <td>ARKELL RD</td>\n",
       "      <td>2021-01-01</td>\n",
       "      <td>0:21</td>\n",
       "      <td>BYLAW COMPLAINT</td>\n",
       "      <td>OTHER BY-LAW COMPLAINT</td>\n",
       "      <td>0:00:00:08</td>\n",
       "    </tr>\n",
       "    <tr>\n",
       "      <th>3</th>\n",
       "      <td>GUELPH</td>\n",
       "      <td>ARTHUR ST N</td>\n",
       "      <td>2021-01-01</td>\n",
       "      <td>0:32</td>\n",
       "      <td>PERSON STOP</td>\n",
       "      <td>NO OFFENCE - PERSON STOP</td>\n",
       "      <td>0:00:00:01</td>\n",
       "    </tr>\n",
       "    <tr>\n",
       "      <th>4</th>\n",
       "      <td>GUELPH</td>\n",
       "      <td>GORDON ST</td>\n",
       "      <td>2021-01-01</td>\n",
       "      <td>0:37</td>\n",
       "      <td>BYLAW COMPLAINT</td>\n",
       "      <td>OTHER BY-LAW COMPLAINT</td>\n",
       "      <td>0:00:00:07</td>\n",
       "    </tr>\n",
       "    <tr>\n",
       "      <th>...</th>\n",
       "      <td>...</td>\n",
       "      <td>...</td>\n",
       "      <td>...</td>\n",
       "      <td>...</td>\n",
       "      <td>...</td>\n",
       "      <td>...</td>\n",
       "      <td>...</td>\n",
       "    </tr>\n",
       "    <tr>\n",
       "      <th>550067</th>\n",
       "      <td>GUELPH</td>\n",
       "      <td>VICTORIA RD N</td>\n",
       "      <td>12/31/2014</td>\n",
       "      <td>23:20</td>\n",
       "      <td>VEHICLE STOP</td>\n",
       "      <td>PON WARNING - VEHICLE STOP</td>\n",
       "      <td>0:00:00:00</td>\n",
       "    </tr>\n",
       "    <tr>\n",
       "      <th>550068</th>\n",
       "      <td>GUELPH</td>\n",
       "      <td>GORDON ST</td>\n",
       "      <td>12/31/2014</td>\n",
       "      <td>23:40</td>\n",
       "      <td>FILED 9-1-1- CALL</td>\n",
       "      <td>FILED 9-1-1- CALL</td>\n",
       "      <td>NaN</td>\n",
       "    </tr>\n",
       "    <tr>\n",
       "      <th>550069</th>\n",
       "      <td>GUELPH</td>\n",
       "      <td>HARRIS ST</td>\n",
       "      <td>12/31/2014</td>\n",
       "      <td>23:49</td>\n",
       "      <td>ADMINISTRATIVE NOTICE (9-1-1 CALL)</td>\n",
       "      <td>CELL PHONE AUTO DIAL ERROR (9)</td>\n",
       "      <td>NaN</td>\n",
       "    </tr>\n",
       "    <tr>\n",
       "      <th>550070</th>\n",
       "      <td>GUELPH</td>\n",
       "      <td>COLE RD</td>\n",
       "      <td>12/31/2014</td>\n",
       "      <td>23:55</td>\n",
       "      <td>FILED 9-1-1- CALL</td>\n",
       "      <td>FILED 9-1-1- CALL</td>\n",
       "      <td>NaN</td>\n",
       "    </tr>\n",
       "    <tr>\n",
       "      <th>550071</th>\n",
       "      <td>GUELPH</td>\n",
       "      <td>CALEDONIA ST</td>\n",
       "      <td>12/31/2014</td>\n",
       "      <td>23:59</td>\n",
       "      <td>SUSPICIOUS PERSON</td>\n",
       "      <td>VOYEURISM</td>\n",
       "      <td>NaN</td>\n",
       "    </tr>\n",
       "  </tbody>\n",
       "</table>\n",
       "<p>549103 rows × 7 columns</p>\n",
       "</div>"
      ],
      "text/plain": [
       "          City         Address ReportedDate ReportedTime  \\\n",
       "0       GUELPH       GORDON ST   2021-01-01         0:06   \n",
       "1       GUELPH       MULLIN DR   2021-01-01         0:09   \n",
       "2       GUELPH       ARKELL RD   2021-01-01         0:21   \n",
       "3       GUELPH     ARTHUR ST N   2021-01-01         0:32   \n",
       "4       GUELPH       GORDON ST   2021-01-01         0:37   \n",
       "...        ...             ...          ...          ...   \n",
       "550067  GUELPH   VICTORIA RD N   12/31/2014        23:20   \n",
       "550068  GUELPH       GORDON ST   12/31/2014        23:40   \n",
       "550069  GUELPH       HARRIS ST   12/31/2014        23:49   \n",
       "550070  GUELPH         COLE RD   12/31/2014        23:55   \n",
       "550071  GUELPH    CALEDONIA ST   12/31/2014        23:59   \n",
       "\n",
       "                              DispatchType                  OccurrenceType  \\\n",
       "0               0-COMPASSIONATE TO LOCATE\"                CHECK WELL-BEING   \n",
       "1       ADMINISTRATIVE NOTICE (9-1-1 CALL)  CELL PHONE AUTO DIAL ERROR (9)   \n",
       "2                          BYLAW COMPLAINT          OTHER BY-LAW COMPLAINT   \n",
       "3                              PERSON STOP        NO OFFENCE - PERSON STOP   \n",
       "4                          BYLAW COMPLAINT          OTHER BY-LAW COMPLAINT   \n",
       "...                                    ...                             ...   \n",
       "550067                        VEHICLE STOP      PON WARNING - VEHICLE STOP   \n",
       "550068                   FILED 9-1-1- CALL               FILED 9-1-1- CALL   \n",
       "550069  ADMINISTRATIVE NOTICE (9-1-1 CALL)  CELL PHONE AUTO DIAL ERROR (9)   \n",
       "550070                   FILED 9-1-1- CALL               FILED 9-1-1- CALL   \n",
       "550071                   SUSPICIOUS PERSON                       VOYEURISM   \n",
       "\n",
       "         DelayTime  \n",
       "0       0:00:02:01  \n",
       "1              NaN  \n",
       "2       0:00:00:08  \n",
       "3       0:00:00:01  \n",
       "4       0:00:00:07  \n",
       "...            ...  \n",
       "550067  0:00:00:00  \n",
       "550068         NaN  \n",
       "550069         NaN  \n",
       "550070         NaN  \n",
       "550071         NaN  \n",
       "\n",
       "[549103 rows x 7 columns]"
      ]
     },
     "execution_count": 74,
     "metadata": {},
     "output_type": "execute_result"
    }
   ],
   "source": [
    "# drop city entries not equal to GUELPH\n",
    "df_gps[df_gps.City == 'GUELPH']"
   ]
  },
  {
   "cell_type": "code",
   "execution_count": null,
   "id": "06abc1d8",
   "metadata": {},
   "outputs": [],
   "source": [
    "df_gps.City.unique()"
   ]
  },
  {
   "cell_type": "markdown",
   "id": "b913bdc1",
   "metadata": {},
   "source": [
    "## =scratch="
   ]
  }
 ],
 "metadata": {
  "kernelspec": {
   "display_name": "Python 3.9.13 ('main')",
   "language": "python",
   "name": "python3"
  },
  "language_info": {
   "codemirror_mode": {
    "name": "ipython",
    "version": 3
   },
   "file_extension": ".py",
   "mimetype": "text/x-python",
   "name": "python",
   "nbconvert_exporter": "python",
   "pygments_lexer": "ipython3",
   "version": "3.9.13"
  },
  "vscode": {
   "interpreter": {
    "hash": "cf19f468edd180ad03fe71fbc5f5aa5f9896f1df43b0e86a8113e2ca547cfdde"
   }
  }
 },
 "nbformat": 4,
 "nbformat_minor": 5
}
