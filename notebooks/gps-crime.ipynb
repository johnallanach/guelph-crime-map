{
 "cells": [
  {
   "cell_type": "code",
   "execution_count": 1,
   "id": "e1897dcb",
   "metadata": {},
   "outputs": [],
   "source": [
    "import pandas as pd\n",
    "import geopandas as gpd"
   ]
  },
  {
   "cell_type": "markdown",
   "id": "1530658b",
   "metadata": {},
   "source": [
    "## DATA RETRIEVAL "
   ]
  },
  {
   "cell_type": "code",
   "execution_count": 2,
   "id": "94ba7191",
   "metadata": {},
   "outputs": [
    {
     "name": "stderr",
     "output_type": "stream",
     "text": [
      "C:\\Users\\Shane\\AppData\\Local\\Temp\\ipykernel_10620\\3706976985.py:2: DtypeWarning: Columns (0,5,8,9,18,19,20,21,22,23,24,25,26,27,28,29,30,31,32,33,34,35,36,37,38,39,40) have mixed types. Specify dtype option on import or set low_memory=False.\n",
      "  df_gps = pd.read_csv(r'..\\_gitignore\\data\\GPS_Occurrence_Data_ALL.csv')\n"
     ]
    }
   ],
   "source": [
    "# read csv data into pandas dataframe\n",
    "df_gps = pd.read_csv(r'..\\_gitignore\\data\\GPS_Occurrence_Data_ALL.csv')"
   ]
  },
  {
   "cell_type": "markdown",
   "id": "55c94e45",
   "metadata": {},
   "source": [
    "## DATA CLEANING & EXPLORATION "
   ]
  },
  {
   "cell_type": "code",
   "execution_count": 3,
   "id": "7b7b8269",
   "metadata": {},
   "outputs": [],
   "source": [
    "#df_gps.head()"
   ]
  },
  {
   "cell_type": "code",
   "execution_count": 4,
   "id": "d8a7019e",
   "metadata": {},
   "outputs": [],
   "source": [
    "#df_gps.describe()"
   ]
  },
  {
   "cell_type": "code",
   "execution_count": 5,
   "id": "9a1d6592",
   "metadata": {},
   "outputs": [],
   "source": [
    "#df_gps.info()"
   ]
  },
  {
   "cell_type": "markdown",
   "id": "933ac490",
   "metadata": {},
   "source": [
    "### DATA CLEANING"
   ]
  },
  {
   "cell_type": "code",
   "execution_count": 6,
   "id": "09ce2646",
   "metadata": {},
   "outputs": [],
   "source": [
    "# Drop multiple columns by index\n",
    "droprange = [0, 5, 8, 9, 10, 11, 12, 14, 13, 15] + list(range(17, 41))\n",
    "df_gps.drop(df_gps.columns[droprange], axis=1, inplace=True)"
   ]
  },
  {
   "cell_type": "code",
   "execution_count": 7,
   "id": "fc7b3a10",
   "metadata": {},
   "outputs": [
    {
     "name": "stdout",
     "output_type": "stream",
     "text": [
      "(550072, 7)\n",
      "(103940, 7)\n",
      "(446123, 7)\n"
     ]
    }
   ],
   "source": [
    "# Drop administrative, call errors, and other non-pertinent entries\n",
    "print(df_gps.shape)\n",
    "admin_calls = df_gps.dropna(subset=['DispatchType'])\n",
    "admin_calls = admin_calls[admin_calls['DispatchType'].str.contains('ADMINISTRATIVE')]\n",
    "print(admin_calls.shape)\n",
    "\n",
    "df_gps = df_gps[df_gps['DispatchType'].str.contains('ADMINISTRATIVE')==False]\n",
    "print(df_gps.shape)"
   ]
  },
  {
   "cell_type": "code",
   "execution_count": 8,
   "id": "95cddb3e",
   "metadata": {},
   "outputs": [],
   "source": [
    "df_gps['ReportedDate'] = df_gps['ReportedDate'].fillna(0)\n",
    "df_gps['ReportedTime'] = df_gps['ReportedTime'].fillna(0)"
   ]
  },
  {
   "cell_type": "code",
   "execution_count": 9,
   "id": "563a2ab5",
   "metadata": {},
   "outputs": [],
   "source": [
    "# Drop null values for only specifc columns\n",
    "df_gps = df_gps.dropna(subset=['Address'])\n",
    "df_gps = df_gps.dropna(subset=['City'])"
   ]
  },
  {
   "cell_type": "code",
   "execution_count": null,
   "id": "e73fee3f",
   "metadata": {},
   "outputs": [],
   "source": [
    "# Remove leading white spaces from Address column\n",
    "df_gps['Address'] = df_gps['Address'].str.strip()"
   ]
  },
  {
   "cell_type": "code",
   "execution_count": 10,
   "id": "c2f36bbf",
   "metadata": {},
   "outputs": [],
   "source": [
    "# drop city entries not equal to GUELPH\n",
    "df_gps = df_gps[df_gps.City == 'GUELPH']"
   ]
  },
  {
   "cell_type": "markdown",
   "id": "fb800701",
   "metadata": {},
   "source": [
    "#### CLEAN UP DATE & TIME FIELDS "
   ]
  },
  {
   "cell_type": "code",
   "execution_count": 11,
   "id": "aff52a90",
   "metadata": {},
   "outputs": [],
   "source": [
    "# A function to convert non-standard data formats\n",
    "def reformat_date(date_in):\n",
    "    \n",
    "    date = date_in\n",
    "    \n",
    "    if '-' in date: \n",
    "        date_out = date\n",
    "        return date_out\n",
    "\n",
    "    elif len(date.split(' ')) == 2: \n",
    "        time = date.split(' ')[1]\n",
    "        date = date.split(' ')[0]\n",
    "\n",
    "        year = date.split('/')[2]\n",
    "        month = date.split('/')[1]\n",
    "        day = date.split('/')[0] \n",
    "\n",
    "        date_out = str(year + \"-\" + month + \"-\" + day + \" \" + time)\n",
    "        return date_out\n",
    "\n",
    "    elif len(date.split(' ')) == 1:\n",
    "        time = \"\"\n",
    "        year = date.split('/')[2]\n",
    "        month = date.split('/')[1]\n",
    "        day = date.split('/')[0]\n",
    "\n",
    "        date_out = str(year + \"-\" + month + \"-\" + day + \" \" + time)\n",
    "        return date_out\n",
    "   "
   ]
  },
  {
   "cell_type": "code",
   "execution_count": 12,
   "id": "2d65fa82",
   "metadata": {},
   "outputs": [],
   "source": [
    "# Apply date re-formatting function and convert ReportedDate to datetime64\n",
    "df_gps['ReportedDate'] = df_gps['ReportedDate'].apply(lambda x: reformat_date(x) if x != 0 else x)\n",
    "df_gps['ReportedDate'] = pd.to_datetime(df_gps['ReportedDate'], errors='coerce')\n",
    "\n",
    "# Convert ReportedTime to datetime64\n",
    "df_gps['ReportedTime'] = pd.to_datetime(df_gps['ReportedTime'], format='%H:%M', errors='coerce')\n",
    "\n",
    "# Convert ResponseTime to datetime64\n",
    "df_gps['ResponseTime'] = pd.to_datetime(df_gps['ResponseTime'], format='%H:%M:%S:%f')"
   ]
  },
  {
   "cell_type": "markdown",
   "id": "0b4cc19e",
   "metadata": {},
   "source": [
    "Group by number of calls per street"
   ]
  },
  {
   "cell_type": "code",
   "execution_count": 13,
   "id": "571281fd",
   "metadata": {},
   "outputs": [],
   "source": [
    "calls_per_street = df_gps.groupby('Address').size()"
   ]
  },
  {
   "cell_type": "code",
   "execution_count": 14,
   "id": "ebe676da",
   "metadata": {},
   "outputs": [
    {
     "data": {
      "text/plain": [
       "Address\n",
       " WYNDHAM ST S         30255\n",
       " GORDON ST            22484\n",
       " WOODLAWN RD W        14175\n",
       " WOOLWICH ST          13820\n",
       " SILVERCREEK PKY N    10862\n",
       "                      ...  \n",
       " 10 SIDEROAD NORTH        1\n",
       " SPITZIG RD               1\n",
       " KIRBY CRT                1\n",
       " DEAD END                 1\n",
       " REVELSTOKE DR            1\n",
       "Length: 1290, dtype: int64"
      ]
     },
     "execution_count": 14,
     "metadata": {},
     "output_type": "execute_result"
    }
   ],
   "source": [
    "calls_per_street.sort_values(ascending=False)"
   ]
  },
  {
   "cell_type": "code",
   "execution_count": 15,
   "id": "2de2eb6a",
   "metadata": {},
   "outputs": [],
   "source": [
    "df_calls_per_street = calls_per_street.to_frame(name='gps_calls_sum')\n",
    "df_calls_per_street = df_calls_per_street.reset_index()"
   ]
  },
  {
   "cell_type": "code",
   "execution_count": 16,
   "id": "11c96ed1",
   "metadata": {},
   "outputs": [
    {
     "data": {
      "text/html": [
       "<div>\n",
       "<style scoped>\n",
       "    .dataframe tbody tr th:only-of-type {\n",
       "        vertical-align: middle;\n",
       "    }\n",
       "\n",
       "    .dataframe tbody tr th {\n",
       "        vertical-align: top;\n",
       "    }\n",
       "\n",
       "    .dataframe thead th {\n",
       "        text-align: right;\n",
       "    }\n",
       "</style>\n",
       "<table border=\"1\" class=\"dataframe\">\n",
       "  <thead>\n",
       "    <tr style=\"text-align: right;\">\n",
       "      <th></th>\n",
       "      <th>Address</th>\n",
       "      <th>gps_calls_sum</th>\n",
       "    </tr>\n",
       "  </thead>\n",
       "  <tbody>\n",
       "    <tr>\n",
       "      <th>1184</th>\n",
       "      <td>WATSON PKY</td>\n",
       "      <td>2</td>\n",
       "    </tr>\n",
       "    <tr>\n",
       "      <th>1076</th>\n",
       "      <td>STULL AVE</td>\n",
       "      <td>19</td>\n",
       "    </tr>\n",
       "    <tr>\n",
       "      <th>1179</th>\n",
       "      <td>WATERFORD DR</td>\n",
       "      <td>221</td>\n",
       "    </tr>\n",
       "    <tr>\n",
       "      <th>844</th>\n",
       "      <td>OAK ST</td>\n",
       "      <td>112</td>\n",
       "    </tr>\n",
       "    <tr>\n",
       "      <th>197</th>\n",
       "      <td>CITY OF GUELPH</td>\n",
       "      <td>6</td>\n",
       "    </tr>\n",
       "    <tr>\n",
       "      <th>543</th>\n",
       "      <td>HEPBURN AVE</td>\n",
       "      <td>17</td>\n",
       "    </tr>\n",
       "    <tr>\n",
       "      <th>1078</th>\n",
       "      <td>SUFFOLK ST</td>\n",
       "      <td>2</td>\n",
       "    </tr>\n",
       "    <tr>\n",
       "      <th>638</th>\n",
       "      <td>KILKENNY PL</td>\n",
       "      <td>42</td>\n",
       "    </tr>\n",
       "    <tr>\n",
       "      <th>153</th>\n",
       "      <td>CAREY CRES</td>\n",
       "      <td>60</td>\n",
       "    </tr>\n",
       "    <tr>\n",
       "      <th>269</th>\n",
       "      <td>DAKOTA DR</td>\n",
       "      <td>151</td>\n",
       "    </tr>\n",
       "  </tbody>\n",
       "</table>\n",
       "</div>"
      ],
      "text/plain": [
       "              Address  gps_calls_sum\n",
       "1184       WATSON PKY              2\n",
       "1076        STULL AVE             19\n",
       "1179     WATERFORD DR            221\n",
       "844            OAK ST            112\n",
       "197    CITY OF GUELPH              6\n",
       "543       HEPBURN AVE             17\n",
       "1078       SUFFOLK ST              2\n",
       "638       KILKENNY PL             42\n",
       "153        CAREY CRES             60\n",
       "269         DAKOTA DR            151"
      ]
     },
     "execution_count": 16,
     "metadata": {},
     "output_type": "execute_result"
    }
   ],
   "source": [
    "df_calls_per_street.sample(10)"
   ]
  },
  {
   "cell_type": "markdown",
   "id": "3a8bf55c",
   "metadata": {},
   "source": [
    "### DATA EXPLORATION"
   ]
  },
  {
   "cell_type": "markdown",
   "id": "6c462959",
   "metadata": {},
   "source": [
    "Bylaw complaints -- General"
   ]
  },
  {
   "cell_type": "code",
   "execution_count": 817,
   "id": "ec0f5a74",
   "metadata": {},
   "outputs": [
    {
     "data": {
      "text/plain": [
       "(20841, 7)"
      ]
     },
     "execution_count": 817,
     "metadata": {},
     "output_type": "execute_result"
    }
   ],
   "source": [
    "# Create new dataframe of bylaw complaint DispatchTypes\n",
    "bylaw_complaints = df_gps[df_gps['DispatchType'] == 'BYLAW COMPLAINT']\n",
    "bylaw_complaints.shape"
   ]
  },
  {
   "cell_type": "markdown",
   "id": "1c5ef707",
   "metadata": {},
   "source": [
    "Noise complaints"
   ]
  },
  {
   "cell_type": "code",
   "execution_count": 818,
   "id": "1050d0d2",
   "metadata": {},
   "outputs": [
    {
     "data": {
      "text/plain": [
       "(17058, 7)"
      ]
     },
     "execution_count": 818,
     "metadata": {},
     "output_type": "execute_result"
    }
   ],
   "source": [
    "# Create new dataframe of bylaw complaint DispatchTypes\n",
    "noise_complaints = df_gps[df_gps['OccurrenceType'] == 'NOISE COMPLAINT']\n",
    "noise_complaints.shape"
   ]
  },
  {
   "cell_type": "markdown",
   "id": "c7d95fdd",
   "metadata": {},
   "source": [
    "Barking complaints"
   ]
  },
  {
   "cell_type": "code",
   "execution_count": 819,
   "id": "40eb31a0",
   "metadata": {},
   "outputs": [
    {
     "data": {
      "text/plain": [
       "(2324, 7)"
      ]
     },
     "execution_count": 819,
     "metadata": {},
     "output_type": "execute_result"
    }
   ],
   "source": [
    "barking_complaints = df_gps.dropna(subset=['OccurrenceType'])\n",
    "barking_complaints = barking_complaints[barking_complaints['OccurrenceType'].str.contains('BARKING')]\n",
    "barking_complaints.shape"
   ]
  },
  {
   "cell_type": "markdown",
   "id": "1d7ce84d",
   "metadata": {},
   "source": [
    "Pivot table by unique call types per street"
   ]
  },
  {
   "cell_type": "code",
   "execution_count": 822,
   "id": "10d684b1",
   "metadata": {},
   "outputs": [
    {
     "data": {
      "text/html": [
       "<div>\n",
       "<style scoped>\n",
       "    .dataframe tbody tr th:only-of-type {\n",
       "        vertical-align: middle;\n",
       "    }\n",
       "\n",
       "    .dataframe tbody tr th {\n",
       "        vertical-align: top;\n",
       "    }\n",
       "\n",
       "    .dataframe thead th {\n",
       "        text-align: right;\n",
       "    }\n",
       "</style>\n",
       "<table border=\"1\" class=\"dataframe\">\n",
       "  <thead>\n",
       "    <tr style=\"text-align: right;\">\n",
       "      <th></th>\n",
       "      <th>DispatchType</th>\n",
       "      <th>OccurrenceType</th>\n",
       "    </tr>\n",
       "    <tr>\n",
       "      <th>Address</th>\n",
       "      <th></th>\n",
       "      <th></th>\n",
       "    </tr>\n",
       "  </thead>\n",
       "  <tbody>\n",
       "    <tr>\n",
       "      <th>(UNKNOWN)</th>\n",
       "      <td>2</td>\n",
       "      <td>1</td>\n",
       "    </tr>\n",
       "    <tr>\n",
       "      <th>NORWICH ST</th>\n",
       "      <td>1</td>\n",
       "      <td>1</td>\n",
       "    </tr>\n",
       "    <tr>\n",
       "      <th>BREWERY ST</th>\n",
       "      <td>1</td>\n",
       "      <td>1</td>\n",
       "    </tr>\n",
       "    <tr>\n",
       "      <th>GUELPH TOWNSHIP ROAD 1</th>\n",
       "      <td>1</td>\n",
       "      <td>1</td>\n",
       "    </tr>\n",
       "    <tr>\n",
       "      <th>MORGAN AVE</th>\n",
       "      <td>1</td>\n",
       "      <td>1</td>\n",
       "    </tr>\n",
       "    <tr>\n",
       "      <th>...</th>\n",
       "      <td>...</td>\n",
       "      <td>...</td>\n",
       "    </tr>\n",
       "    <tr>\n",
       "      <th>WILLOW RD</th>\n",
       "      <td>99</td>\n",
       "      <td>347</td>\n",
       "    </tr>\n",
       "    <tr>\n",
       "      <th>WOODLAWN RD W</th>\n",
       "      <td>111</td>\n",
       "      <td>348</td>\n",
       "    </tr>\n",
       "    <tr>\n",
       "      <th>WYNDHAM ST S</th>\n",
       "      <td>116</td>\n",
       "      <td>361</td>\n",
       "    </tr>\n",
       "    <tr>\n",
       "      <th>WOOLWICH ST</th>\n",
       "      <td>108</td>\n",
       "      <td>364</td>\n",
       "    </tr>\n",
       "    <tr>\n",
       "      <th>GORDON ST</th>\n",
       "      <td>111</td>\n",
       "      <td>381</td>\n",
       "    </tr>\n",
       "  </tbody>\n",
       "</table>\n",
       "<p>1290 rows × 2 columns</p>\n",
       "</div>"
      ],
      "text/plain": [
       "                         DispatchType  OccurrenceType\n",
       "Address                                              \n",
       " (UNKNOWN)                          2               1\n",
       " NORWICH ST                         1               1\n",
       " BREWERY ST                         1               1\n",
       " GUELPH TOWNSHIP ROAD 1             1               1\n",
       " MORGAN AVE                         1               1\n",
       "...                               ...             ...\n",
       " WILLOW RD                         99             347\n",
       " WOODLAWN RD W                    111             348\n",
       " WYNDHAM ST S                     116             361\n",
       " WOOLWICH ST                      108             364\n",
       " GORDON ST                        111             381\n",
       "\n",
       "[1290 rows x 2 columns]"
      ]
     },
     "metadata": {},
     "output_type": "display_data"
    }
   ],
   "source": [
    "unique_calls = pd.pivot_table(df_gps,\n",
    "            index = [\"Address\"],\n",
    "            values = [\"DispatchType\", \"OccurrenceType\"],\n",
    "            aggfunc = pd.Series.nunique)\n",
    "\n",
    "# Display pivot table sorted by number of unique 'OccurrenceType'\n",
    "display(unique_calls.sort_values(by='OccurrenceType'))"
   ]
  },
  {
   "cell_type": "markdown",
   "id": "5b35350d",
   "metadata": {},
   "source": [
    "Get number of calls per street by specified DispatchType/OccurrenceType"
   ]
  },
  {
   "cell_type": "code",
   "execution_count": 823,
   "id": "ebe1b69e",
   "metadata": {},
   "outputs": [
    {
     "data": {
      "text/plain": [
       "Address\n",
       " GORDON ST          1066\n",
       " COLLEGE AVE W       438\n",
       " CHANCELLORS WAY     424\n",
       " WOOLWICH ST         399\n",
       " EDINBURGH RD S      397\n",
       "                    ... \n",
       " MARSLAND CRT          1\n",
       " MASSEY RD             1\n",
       " MCCALL CRES           1\n",
       " MERRITT BLVD          1\n",
       " ZESS CRT              1\n",
       "Length: 856, dtype: int64"
      ]
     },
     "execution_count": 823,
     "metadata": {},
     "output_type": "execute_result"
    }
   ],
   "source": [
    "DispatchType = 'BYLAW COMPLAINT'\n",
    "OccurrenceType = 'NOISE COMPLAINT'\n",
    "\n",
    "df_calls_by_type = df_gps.copy()\n",
    "df_calls_by_type = df_calls_by_type[df_calls_by_type.DispatchType == DispatchType]\n",
    "#df_calls_by_type = df_calls_by_type[df_calls_by_type.OccurrenceType == OccurrenceType]\n",
    "\n",
    "df_calls_by_type = df_calls_by_type.groupby('Address').size()\n",
    "df_calls_by_type.sort_values(ascending=False)"
   ]
  },
  {
   "cell_type": "markdown",
   "id": "cb7f691b",
   "metadata": {},
   "source": [
    "## GET STREETS FROM OPEN DATA"
   ]
  },
  {
   "cell_type": "code",
   "execution_count": 17,
   "id": "21993e68",
   "metadata": {},
   "outputs": [],
   "source": [
    "# Declare url of Guelph street geojson data\n",
    "URL = 'http://data.open.guelph.ca/datafiles/gis/Streets.geojson'"
   ]
  },
  {
   "cell_type": "code",
   "execution_count": 18,
   "id": "d71642d0",
   "metadata": {},
   "outputs": [],
   "source": [
    "# Get geojson data and read to geodataframe \n",
    "streets_gdf = gpd.read_file(URL)"
   ]
  },
  {
   "cell_type": "code",
   "execution_count": 19,
   "id": "e8294322",
   "metadata": {},
   "outputs": [
    {
     "data": {
      "text/html": [
       "<div>\n",
       "<style scoped>\n",
       "    .dataframe tbody tr th:only-of-type {\n",
       "        vertical-align: middle;\n",
       "    }\n",
       "\n",
       "    .dataframe tbody tr th {\n",
       "        vertical-align: top;\n",
       "    }\n",
       "\n",
       "    .dataframe thead th {\n",
       "        text-align: right;\n",
       "    }\n",
       "</style>\n",
       "<table border=\"1\" class=\"dataframe\">\n",
       "  <thead>\n",
       "    <tr style=\"text-align: right;\">\n",
       "      <th></th>\n",
       "      <th>OBJECTID_1</th>\n",
       "      <th>STREET</th>\n",
       "      <th>FROMSTRT</th>\n",
       "      <th>TOSTRT</th>\n",
       "      <th>LFROM</th>\n",
       "      <th>LTO</th>\n",
       "      <th>RFROM</th>\n",
       "      <th>RTO</th>\n",
       "      <th>SEQUENCE</th>\n",
       "      <th>MUN</th>\n",
       "      <th>STREETID</th>\n",
       "      <th>SEGMNTID</th>\n",
       "      <th>SHAPE_LEN</th>\n",
       "      <th>geometry</th>\n",
       "    </tr>\n",
       "  </thead>\n",
       "  <tbody>\n",
       "    <tr>\n",
       "      <th>0</th>\n",
       "      <td>1.0</td>\n",
       "      <td>WOODLAWN RD E</td>\n",
       "      <td>GOLFVIEW RD</td>\n",
       "      <td>INVERNESS DR</td>\n",
       "      <td>424.0</td>\n",
       "      <td>450.0</td>\n",
       "      <td>0.0</td>\n",
       "      <td>0.0</td>\n",
       "      <td>5.0</td>\n",
       "      <td>GUELPH</td>\n",
       "      <td>3142.0</td>\n",
       "      <td>6165.0</td>\n",
       "      <td>0.003355</td>\n",
       "      <td>LINESTRING (-80.26485 43.57411, -80.26229 43.5...</td>\n",
       "    </tr>\n",
       "    <tr>\n",
       "      <th>1</th>\n",
       "      <td>2.0</td>\n",
       "      <td>RHONDA RD</td>\n",
       "      <td>WESTWOOD RD</td>\n",
       "      <td>WILDWOOD PL</td>\n",
       "      <td>12.0</td>\n",
       "      <td>22.0</td>\n",
       "      <td>35.0</td>\n",
       "      <td>41.0</td>\n",
       "      <td>1.0</td>\n",
       "      <td>GUELPH</td>\n",
       "      <td>2554.0</td>\n",
       "      <td>6968.0</td>\n",
       "      <td>0.001070</td>\n",
       "      <td>LINESTRING (-80.27755 43.53360, -80.27841 43.5...</td>\n",
       "    </tr>\n",
       "    <tr>\n",
       "      <th>2</th>\n",
       "      <td>3.0</td>\n",
       "      <td>RAGLAN ST</td>\n",
       "      <td>ALMA ST N</td>\n",
       "      <td>OMAR ST</td>\n",
       "      <td>64.0</td>\n",
       "      <td>98.0</td>\n",
       "      <td>65.0</td>\n",
       "      <td>93.0</td>\n",
       "      <td>1.0</td>\n",
       "      <td>GUELPH</td>\n",
       "      <td>2530.0</td>\n",
       "      <td>6766.0</td>\n",
       "      <td>0.001992</td>\n",
       "      <td>LINESTRING (-80.26386 43.53887, -80.26395 43.5...</td>\n",
       "    </tr>\n",
       "    <tr>\n",
       "      <th>3</th>\n",
       "      <td>4.0</td>\n",
       "      <td>DOWNEY RD</td>\n",
       "      <td>PTARMIGAN DR</td>\n",
       "      <td>PHEASANT RUN DR</td>\n",
       "      <td>108.0</td>\n",
       "      <td>130.0</td>\n",
       "      <td>115.0</td>\n",
       "      <td>129.0</td>\n",
       "      <td>5.0</td>\n",
       "      <td>GUELPH</td>\n",
       "      <td>1511.0</td>\n",
       "      <td>4928.0</td>\n",
       "      <td>0.002591</td>\n",
       "      <td>LINESTRING (-80.23768 43.50012, -80.23548 43.4...</td>\n",
       "    </tr>\n",
       "    <tr>\n",
       "      <th>4</th>\n",
       "      <td>5.0</td>\n",
       "      <td>ERAMOSA RD</td>\n",
       "      <td>BRANT AV</td>\n",
       "      <td>CITY OF GUELPH LIMITS</td>\n",
       "      <td>728.0</td>\n",
       "      <td>728.0</td>\n",
       "      <td>0.0</td>\n",
       "      <td>0.0</td>\n",
       "      <td>25.0</td>\n",
       "      <td>GUELPH</td>\n",
       "      <td>1613.0</td>\n",
       "      <td>6080.0</td>\n",
       "      <td>0.001957</td>\n",
       "      <td>LINESTRING (-80.24657 43.57664, -80.24634 43.5...</td>\n",
       "    </tr>\n",
       "  </tbody>\n",
       "</table>\n",
       "</div>"
      ],
      "text/plain": [
       "   OBJECTID_1         STREET      FROMSTRT                 TOSTRT  LFROM  \\\n",
       "0         1.0  WOODLAWN RD E   GOLFVIEW RD           INVERNESS DR  424.0   \n",
       "1         2.0      RHONDA RD   WESTWOOD RD            WILDWOOD PL   12.0   \n",
       "2         3.0      RAGLAN ST     ALMA ST N                OMAR ST   64.0   \n",
       "3         4.0      DOWNEY RD  PTARMIGAN DR        PHEASANT RUN DR  108.0   \n",
       "4         5.0     ERAMOSA RD      BRANT AV  CITY OF GUELPH LIMITS  728.0   \n",
       "\n",
       "     LTO  RFROM    RTO  SEQUENCE     MUN  STREETID  SEGMNTID  SHAPE_LEN  \\\n",
       "0  450.0    0.0    0.0       5.0  GUELPH    3142.0    6165.0   0.003355   \n",
       "1   22.0   35.0   41.0       1.0  GUELPH    2554.0    6968.0   0.001070   \n",
       "2   98.0   65.0   93.0       1.0  GUELPH    2530.0    6766.0   0.001992   \n",
       "3  130.0  115.0  129.0       5.0  GUELPH    1511.0    4928.0   0.002591   \n",
       "4  728.0    0.0    0.0      25.0  GUELPH    1613.0    6080.0   0.001957   \n",
       "\n",
       "                                            geometry  \n",
       "0  LINESTRING (-80.26485 43.57411, -80.26229 43.5...  \n",
       "1  LINESTRING (-80.27755 43.53360, -80.27841 43.5...  \n",
       "2  LINESTRING (-80.26386 43.53887, -80.26395 43.5...  \n",
       "3  LINESTRING (-80.23768 43.50012, -80.23548 43.4...  \n",
       "4  LINESTRING (-80.24657 43.57664, -80.24634 43.5...  "
      ]
     },
     "execution_count": 19,
     "metadata": {},
     "output_type": "execute_result"
    }
   ],
   "source": [
    "# Examine streets data\n",
    "streets_gdf.head()"
   ]
  },
  {
   "cell_type": "code",
   "execution_count": 20,
   "id": "9059978c",
   "metadata": {},
   "outputs": [
    {
     "name": "stdout",
     "output_type": "stream",
     "text": [
      "<class 'geopandas.geodataframe.GeoDataFrame'>\n",
      "RangeIndex: 3408 entries, 0 to 3407\n",
      "Data columns (total 14 columns):\n",
      " #   Column      Non-Null Count  Dtype   \n",
      "---  ------      --------------  -----   \n",
      " 0   OBJECTID_1  3408 non-null   float64 \n",
      " 1   STREET      3408 non-null   object  \n",
      " 2   FROMSTRT    3408 non-null   object  \n",
      " 3   TOSTRT      3408 non-null   object  \n",
      " 4   LFROM       3408 non-null   float64 \n",
      " 5   LTO         3408 non-null   float64 \n",
      " 6   RFROM       3408 non-null   float64 \n",
      " 7   RTO         3408 non-null   float64 \n",
      " 8   SEQUENCE    3408 non-null   float64 \n",
      " 9   MUN         3408 non-null   object  \n",
      " 10  STREETID    3408 non-null   float64 \n",
      " 11  SEGMNTID    3408 non-null   float64 \n",
      " 12  SHAPE_LEN   3408 non-null   float64 \n",
      " 13  geometry    3408 non-null   geometry\n",
      "dtypes: float64(9), geometry(1), object(4)\n",
      "memory usage: 372.9+ KB\n"
     ]
    }
   ],
   "source": [
    "# Examine streets data\n",
    "streets_gdf.info()"
   ]
  },
  {
   "cell_type": "code",
   "execution_count": 21,
   "id": "32aa174a",
   "metadata": {},
   "outputs": [],
   "source": [
    "# Dissolve street segments by STREET column\n",
    "subset_streets_gdf = streets_gdf[['STREET', 'MUN', 'STREETID', 'SEGMNTID', 'SHAPE_LEN', 'geometry']]\n",
    "dissolved_streets_gdf = subset_streets_gdf.dissolve(by='STREET')\n"
   ]
  },
  {
   "cell_type": "code",
   "execution_count": 22,
   "id": "73be1f79",
   "metadata": {},
   "outputs": [],
   "source": [
    "# Reset index\n",
    "dissolved_streets_gdf = dissolved_streets_gdf.reset_index()"
   ]
  },
  {
   "cell_type": "code",
   "execution_count": 23,
   "id": "c8df3a12",
   "metadata": {},
   "outputs": [
    {
     "name": "stdout",
     "output_type": "stream",
     "text": [
      "<class 'geopandas.geodataframe.GeoDataFrame'>\n",
      "RangeIndex: 1058 entries, 0 to 1057\n",
      "Data columns (total 6 columns):\n",
      " #   Column     Non-Null Count  Dtype   \n",
      "---  ------     --------------  -----   \n",
      " 0   STREET     1058 non-null   object  \n",
      " 1   geometry   1058 non-null   geometry\n",
      " 2   MUN        1058 non-null   object  \n",
      " 3   STREETID   1058 non-null   float64 \n",
      " 4   SEGMNTID   1058 non-null   float64 \n",
      " 5   SHAPE_LEN  1058 non-null   float64 \n",
      "dtypes: float64(3), geometry(1), object(2)\n",
      "memory usage: 49.7+ KB\n"
     ]
    }
   ],
   "source": [
    "# Confirm dissolved \n",
    "dissolved_streets_gdf.info()"
   ]
  },
  {
   "cell_type": "code",
   "execution_count": 24,
   "id": "0320afdf",
   "metadata": {},
   "outputs": [
    {
     "data": {
      "text/html": [
       "<div>\n",
       "<style scoped>\n",
       "    .dataframe tbody tr th:only-of-type {\n",
       "        vertical-align: middle;\n",
       "    }\n",
       "\n",
       "    .dataframe tbody tr th {\n",
       "        vertical-align: top;\n",
       "    }\n",
       "\n",
       "    .dataframe thead th {\n",
       "        text-align: right;\n",
       "    }\n",
       "</style>\n",
       "<table border=\"1\" class=\"dataframe\">\n",
       "  <thead>\n",
       "    <tr style=\"text-align: right;\">\n",
       "      <th></th>\n",
       "      <th>STREET</th>\n",
       "      <th>geometry</th>\n",
       "      <th>MUN</th>\n",
       "      <th>STREETID</th>\n",
       "      <th>SEGMNTID</th>\n",
       "      <th>SHAPE_LEN</th>\n",
       "    </tr>\n",
       "  </thead>\n",
       "  <tbody>\n",
       "    <tr>\n",
       "      <th>0</th>\n",
       "      <td>ABBEYWOOD CR</td>\n",
       "      <td>LINESTRING (-80.27954 43.52634, -80.27906 43.5...</td>\n",
       "      <td>GUELPH</td>\n",
       "      <td>1018.0</td>\n",
       "      <td>7059.0</td>\n",
       "      <td>0.005880</td>\n",
       "    </tr>\n",
       "    <tr>\n",
       "      <th>1</th>\n",
       "      <td>ABERDEEN ST</td>\n",
       "      <td>MULTILINESTRING ((-80.26041 43.54246, -80.2625...</td>\n",
       "      <td>GUELPH</td>\n",
       "      <td>1019.0</td>\n",
       "      <td>6742.0</td>\n",
       "      <td>0.002343</td>\n",
       "    </tr>\n",
       "    <tr>\n",
       "      <th>2</th>\n",
       "      <td>ACKER ST</td>\n",
       "      <td>MULTILINESTRING ((-80.22527 43.58087, -80.2241...</td>\n",
       "      <td>GUELPH</td>\n",
       "      <td>3410.0</td>\n",
       "      <td>8258.0</td>\n",
       "      <td>0.001366</td>\n",
       "    </tr>\n",
       "    <tr>\n",
       "      <th>3</th>\n",
       "      <td>ACORN PL</td>\n",
       "      <td>LINESTRING (-80.25243 43.56993, -80.25230 43.5...</td>\n",
       "      <td>GUELPH</td>\n",
       "      <td>1021.0</td>\n",
       "      <td>5922.0</td>\n",
       "      <td>0.001003</td>\n",
       "    </tr>\n",
       "    <tr>\n",
       "      <th>4</th>\n",
       "      <td>ADAMS LN</td>\n",
       "      <td>LINESTRING (-80.17292 43.51485, -80.17341 43.5...</td>\n",
       "      <td>GUELPH</td>\n",
       "      <td>3569.0</td>\n",
       "      <td>9442.0</td>\n",
       "      <td>0.000605</td>\n",
       "    </tr>\n",
       "  </tbody>\n",
       "</table>\n",
       "</div>"
      ],
      "text/plain": [
       "         STREET                                           geometry     MUN  \\\n",
       "0  ABBEYWOOD CR  LINESTRING (-80.27954 43.52634, -80.27906 43.5...  GUELPH   \n",
       "1   ABERDEEN ST  MULTILINESTRING ((-80.26041 43.54246, -80.2625...  GUELPH   \n",
       "2      ACKER ST  MULTILINESTRING ((-80.22527 43.58087, -80.2241...  GUELPH   \n",
       "3      ACORN PL  LINESTRING (-80.25243 43.56993, -80.25230 43.5...  GUELPH   \n",
       "4      ADAMS LN  LINESTRING (-80.17292 43.51485, -80.17341 43.5...  GUELPH   \n",
       "\n",
       "   STREETID  SEGMNTID  SHAPE_LEN  \n",
       "0    1018.0    7059.0   0.005880  \n",
       "1    1019.0    6742.0   0.002343  \n",
       "2    3410.0    8258.0   0.001366  \n",
       "3    1021.0    5922.0   0.001003  \n",
       "4    3569.0    9442.0   0.000605  "
      ]
     },
     "execution_count": 24,
     "metadata": {},
     "output_type": "execute_result"
    }
   ],
   "source": [
    "dissolved_streets_gdf.head()"
   ]
  },
  {
   "cell_type": "code",
   "execution_count": 209,
   "id": "21d39568",
   "metadata": {},
   "outputs": [
    {
     "data": {
      "text/plain": [
       "<AxesSubplot:>"
      ]
     },
     "execution_count": 209,
     "metadata": {},
     "output_type": "execute_result"
    },
    {
     "data": {
      "image/png": "[encoded data removed]",
      "text/plain": [
       "<Figure size 640x480 with 1 Axes>"
      ]
     },
     "metadata": {},
     "output_type": "display_data"
    }
   ],
   "source": [
    "# Quick peak at result\n",
    "dissolved_streets_gdf.plot()"
   ]
  },
  {
   "cell_type": "markdown",
   "id": "87f03f6b",
   "metadata": {},
   "source": [
    "## JOIN GPS CALL DATA TO GEOJSON STREETS DATA"
   ]
  },
  {
   "cell_type": "code",
   "execution_count": 25,
   "id": "4b9688a5",
   "metadata": {},
   "outputs": [],
   "source": [
    "# Specify which dataframes will be merged\n",
    "df_gps_merge_in = df_calls_per_street.copy()\n",
    "gdf_gps_merge_in = dissolved_streets_gdf.copy()"
   ]
  },
  {
   "cell_type": "code",
   "execution_count": 36,
   "id": "9d8f84ad",
   "metadata": {},
   "outputs": [],
   "source": [
    "df_gps_merge_in['Address'] = df_gps_merge_in['Address'].str.strip()"
   ]
  },
  {
   "cell_type": "code",
   "execution_count": null,
   "id": "80c71a50",
   "metadata": {},
   "outputs": [],
   "source": [
    "# Use fuzzywuzzy to match slightly different Address and STREET entries\n",
    "# https://stackoverflow.com/questions/13636848/is-it-possible-to-do-fuzzy-match-merge-with-python-pandas\n",
    "\n"
   ]
  },
  {
   "cell_type": "code",
   "execution_count": 37,
   "id": "66130c6e",
   "metadata": {},
   "outputs": [],
   "source": [
    "#df_gps_merge_in.to_csv(r'C:\\Users\\Shane\\Documents\\df_gps_merge_in.csv', index=False)\n",
    "#gdf_gps_merge_in.to_csv(r'C:\\Users\\Shane\\Documents\\gdf_gps_merge_in.csv', index=False)"
   ]
  },
  {
   "cell_type": "code",
   "execution_count": 38,
   "id": "72ab4736",
   "metadata": {},
   "outputs": [
    {
     "name": "stdout",
     "output_type": "stream",
     "text": [
      "(1058, 8)\n",
      "<class 'geopandas.geodataframe.GeoDataFrame'>\n"
     ]
    }
   ],
   "source": [
    "# Merge with `merge` method on shared variable (Address = STREET):\n",
    "merged = pd.merge(\n",
    "    gdf_gps_merge_in,\n",
    "    df_gps_merge_in,\n",
    "    how=\"left\",\n",
    "    left_on='STREET',\n",
    "    right_on='Address',\n",
    "    left_index=False,\n",
    "    right_index=False,\n",
    "    sort=True\n",
    "    )\n",
    "\n",
    "print(merged.shape)\n",
    "print(type(merged))"
   ]
  },
  {
   "cell_type": "code",
   "execution_count": 890,
   "id": "b588d683",
   "metadata": {},
   "outputs": [
    {
     "data": {
      "text/html": [
       "<div>\n",
       "<style scoped>\n",
       "    .dataframe tbody tr th:only-of-type {\n",
       "        vertical-align: middle;\n",
       "    }\n",
       "\n",
       "    .dataframe tbody tr th {\n",
       "        vertical-align: top;\n",
       "    }\n",
       "\n",
       "    .dataframe thead th {\n",
       "        text-align: right;\n",
       "    }\n",
       "</style>\n",
       "<table border=\"1\" class=\"dataframe\">\n",
       "  <thead>\n",
       "    <tr style=\"text-align: right;\">\n",
       "      <th></th>\n",
       "      <th>Address</th>\n",
       "      <th>gps_calls_sum</th>\n",
       "    </tr>\n",
       "  </thead>\n",
       "  <tbody>\n",
       "    <tr>\n",
       "      <th>0</th>\n",
       "      <td>(UNKNOWN)</td>\n",
       "      <td>2</td>\n",
       "    </tr>\n",
       "    <tr>\n",
       "      <th>1</th>\n",
       "      <td>10 SIDEROAD NORTH</td>\n",
       "      <td>1</td>\n",
       "    </tr>\n",
       "    <tr>\n",
       "      <th>2</th>\n",
       "      <td>21ST ST E</td>\n",
       "      <td>1</td>\n",
       "    </tr>\n",
       "    <tr>\n",
       "      <th>3</th>\n",
       "      <td>28 SURREY ST W</td>\n",
       "      <td>1</td>\n",
       "    </tr>\n",
       "    <tr>\n",
       "      <th>4</th>\n",
       "      <td>2ND AVE</td>\n",
       "      <td>2</td>\n",
       "    </tr>\n",
       "    <tr>\n",
       "      <th>5</th>\n",
       "      <td>721 WOOLWICH ST</td>\n",
       "      <td>30</td>\n",
       "    </tr>\n",
       "    <tr>\n",
       "      <th>6</th>\n",
       "      <td>8TH LINE</td>\n",
       "      <td>1</td>\n",
       "    </tr>\n",
       "    <tr>\n",
       "      <th>7</th>\n",
       "      <td>ABBEYWOOD CRES</td>\n",
       "      <td>128</td>\n",
       "    </tr>\n",
       "    <tr>\n",
       "      <th>8</th>\n",
       "      <td>ABERDEEN ST</td>\n",
       "      <td>51</td>\n",
       "    </tr>\n",
       "    <tr>\n",
       "      <th>9</th>\n",
       "      <td>ACKER ST</td>\n",
       "      <td>84</td>\n",
       "    </tr>\n",
       "    <tr>\n",
       "      <th>10</th>\n",
       "      <td>ACORN PL</td>\n",
       "      <td>44</td>\n",
       "    </tr>\n",
       "    <tr>\n",
       "      <th>11</th>\n",
       "      <td>ADAMS LANE</td>\n",
       "      <td>1</td>\n",
       "    </tr>\n",
       "    <tr>\n",
       "      <th>12</th>\n",
       "      <td>ADMIRAL PL</td>\n",
       "      <td>21</td>\n",
       "    </tr>\n",
       "    <tr>\n",
       "      <th>13</th>\n",
       "      <td>AINSLIE ST S</td>\n",
       "      <td>2</td>\n",
       "    </tr>\n",
       "    <tr>\n",
       "      <th>14</th>\n",
       "      <td>AIRPARK PL</td>\n",
       "      <td>59</td>\n",
       "    </tr>\n",
       "  </tbody>\n",
       "</table>\n",
       "</div>"
      ],
      "text/plain": [
       "               Address  gps_calls_sum\n",
       "0            (UNKNOWN)              2\n",
       "1    10 SIDEROAD NORTH              1\n",
       "2            21ST ST E              1\n",
       "3       28 SURREY ST W              1\n",
       "4              2ND AVE              2\n",
       "5      721 WOOLWICH ST             30\n",
       "6             8TH LINE              1\n",
       "7       ABBEYWOOD CRES            128\n",
       "8          ABERDEEN ST             51\n",
       "9             ACKER ST             84\n",
       "10            ACORN PL             44\n",
       "11          ADAMS LANE              1\n",
       "12          ADMIRAL PL             21\n",
       "13        AINSLIE ST S              2\n",
       "14          AIRPARK PL             59"
      ]
     },
     "execution_count": 890,
     "metadata": {},
     "output_type": "execute_result"
    }
   ],
   "source": [
    "df_calls_per_street.head(15)"
   ]
  },
  {
   "cell_type": "code",
   "execution_count": 39,
   "id": "a77cc771",
   "metadata": {},
   "outputs": [
    {
     "data": {
      "text/html": [
       "<div>\n",
       "<style scoped>\n",
       "    .dataframe tbody tr th:only-of-type {\n",
       "        vertical-align: middle;\n",
       "    }\n",
       "\n",
       "    .dataframe tbody tr th {\n",
       "        vertical-align: top;\n",
       "    }\n",
       "\n",
       "    .dataframe thead th {\n",
       "        text-align: right;\n",
       "    }\n",
       "</style>\n",
       "<table border=\"1\" class=\"dataframe\">\n",
       "  <thead>\n",
       "    <tr style=\"text-align: right;\">\n",
       "      <th></th>\n",
       "      <th>STREET</th>\n",
       "      <th>geometry</th>\n",
       "      <th>MUN</th>\n",
       "      <th>STREETID</th>\n",
       "      <th>SEGMNTID</th>\n",
       "      <th>SHAPE_LEN</th>\n",
       "      <th>Address</th>\n",
       "      <th>gps_calls_sum</th>\n",
       "    </tr>\n",
       "  </thead>\n",
       "  <tbody>\n",
       "    <tr>\n",
       "      <th>0</th>\n",
       "      <td>ABBEYWOOD CR</td>\n",
       "      <td>LINESTRING (-80.27954 43.52634, -80.27906 43.5...</td>\n",
       "      <td>GUELPH</td>\n",
       "      <td>1018.0</td>\n",
       "      <td>7059.0</td>\n",
       "      <td>0.005880</td>\n",
       "      <td>NaN</td>\n",
       "      <td>NaN</td>\n",
       "    </tr>\n",
       "    <tr>\n",
       "      <th>1</th>\n",
       "      <td>ABERDEEN ST</td>\n",
       "      <td>MULTILINESTRING ((-80.26041 43.54246, -80.2625...</td>\n",
       "      <td>GUELPH</td>\n",
       "      <td>1019.0</td>\n",
       "      <td>6742.0</td>\n",
       "      <td>0.002343</td>\n",
       "      <td>ABERDEEN ST</td>\n",
       "      <td>51.0</td>\n",
       "    </tr>\n",
       "    <tr>\n",
       "      <th>2</th>\n",
       "      <td>ACKER ST</td>\n",
       "      <td>MULTILINESTRING ((-80.22527 43.58087, -80.2241...</td>\n",
       "      <td>GUELPH</td>\n",
       "      <td>3410.0</td>\n",
       "      <td>8258.0</td>\n",
       "      <td>0.001366</td>\n",
       "      <td>ACKER ST</td>\n",
       "      <td>84.0</td>\n",
       "    </tr>\n",
       "    <tr>\n",
       "      <th>3</th>\n",
       "      <td>ACORN PL</td>\n",
       "      <td>LINESTRING (-80.25243 43.56993, -80.25230 43.5...</td>\n",
       "      <td>GUELPH</td>\n",
       "      <td>1021.0</td>\n",
       "      <td>5922.0</td>\n",
       "      <td>0.001003</td>\n",
       "      <td>ACORN PL</td>\n",
       "      <td>44.0</td>\n",
       "    </tr>\n",
       "    <tr>\n",
       "      <th>4</th>\n",
       "      <td>ADAMS LN</td>\n",
       "      <td>LINESTRING (-80.17292 43.51485, -80.17341 43.5...</td>\n",
       "      <td>GUELPH</td>\n",
       "      <td>3569.0</td>\n",
       "      <td>9442.0</td>\n",
       "      <td>0.000605</td>\n",
       "      <td>NaN</td>\n",
       "      <td>NaN</td>\n",
       "    </tr>\n",
       "    <tr>\n",
       "      <th>5</th>\n",
       "      <td>ADMIRAL PL</td>\n",
       "      <td>LINESTRING (-80.20668 43.49083, -80.20787 43.4...</td>\n",
       "      <td>GUELPH</td>\n",
       "      <td>1026.0</td>\n",
       "      <td>4669.0</td>\n",
       "      <td>0.001587</td>\n",
       "      <td>ADMIRAL PL</td>\n",
       "      <td>21.0</td>\n",
       "    </tr>\n",
       "    <tr>\n",
       "      <th>6</th>\n",
       "      <td>AIRPARK PL</td>\n",
       "      <td>LINESTRING (-80.20223 43.56230, -80.19977 43.5...</td>\n",
       "      <td>GUELPH</td>\n",
       "      <td>1027.0</td>\n",
       "      <td>5246.0</td>\n",
       "      <td>0.003060</td>\n",
       "      <td>AIRPARK PL</td>\n",
       "      <td>59.0</td>\n",
       "    </tr>\n",
       "    <tr>\n",
       "      <th>7</th>\n",
       "      <td>AJAX ST</td>\n",
       "      <td>LINESTRING (-80.27450 43.53779, -80.27589 43.5...</td>\n",
       "      <td>GUELPH</td>\n",
       "      <td>1028.0</td>\n",
       "      <td>6829.0</td>\n",
       "      <td>0.001735</td>\n",
       "      <td>AJAX ST</td>\n",
       "      <td>217.0</td>\n",
       "    </tr>\n",
       "    <tr>\n",
       "      <th>8</th>\n",
       "      <td>ALBERT ST</td>\n",
       "      <td>MULTILINESTRING ((-80.24132 43.53792, -80.2425...</td>\n",
       "      <td>GUELPH</td>\n",
       "      <td>1029.0</td>\n",
       "      <td>5078.0</td>\n",
       "      <td>0.001551</td>\n",
       "      <td>ALBERT ST</td>\n",
       "      <td>81.0</td>\n",
       "    </tr>\n",
       "    <tr>\n",
       "      <th>9</th>\n",
       "      <td>ALEXANDRA ST</td>\n",
       "      <td>LINESTRING (-80.26747 43.55782, -80.26663 43.5...</td>\n",
       "      <td>GUELPH</td>\n",
       "      <td>1036.0</td>\n",
       "      <td>6218.0</td>\n",
       "      <td>0.001059</td>\n",
       "      <td>ALEXANDRA ST</td>\n",
       "      <td>22.0</td>\n",
       "    </tr>\n",
       "  </tbody>\n",
       "</table>\n",
       "</div>"
      ],
      "text/plain": [
       "         STREET                                           geometry     MUN  \\\n",
       "0  ABBEYWOOD CR  LINESTRING (-80.27954 43.52634, -80.27906 43.5...  GUELPH   \n",
       "1   ABERDEEN ST  MULTILINESTRING ((-80.26041 43.54246, -80.2625...  GUELPH   \n",
       "2      ACKER ST  MULTILINESTRING ((-80.22527 43.58087, -80.2241...  GUELPH   \n",
       "3      ACORN PL  LINESTRING (-80.25243 43.56993, -80.25230 43.5...  GUELPH   \n",
       "4      ADAMS LN  LINESTRING (-80.17292 43.51485, -80.17341 43.5...  GUELPH   \n",
       "5    ADMIRAL PL  LINESTRING (-80.20668 43.49083, -80.20787 43.4...  GUELPH   \n",
       "6    AIRPARK PL  LINESTRING (-80.20223 43.56230, -80.19977 43.5...  GUELPH   \n",
       "7       AJAX ST  LINESTRING (-80.27450 43.53779, -80.27589 43.5...  GUELPH   \n",
       "8     ALBERT ST  MULTILINESTRING ((-80.24132 43.53792, -80.2425...  GUELPH   \n",
       "9  ALEXANDRA ST  LINESTRING (-80.26747 43.55782, -80.26663 43.5...  GUELPH   \n",
       "\n",
       "   STREETID  SEGMNTID  SHAPE_LEN       Address  gps_calls_sum  \n",
       "0    1018.0    7059.0   0.005880           NaN            NaN  \n",
       "1    1019.0    6742.0   0.002343   ABERDEEN ST           51.0  \n",
       "2    3410.0    8258.0   0.001366      ACKER ST           84.0  \n",
       "3    1021.0    5922.0   0.001003      ACORN PL           44.0  \n",
       "4    3569.0    9442.0   0.000605           NaN            NaN  \n",
       "5    1026.0    4669.0   0.001587    ADMIRAL PL           21.0  \n",
       "6    1027.0    5246.0   0.003060    AIRPARK PL           59.0  \n",
       "7    1028.0    6829.0   0.001735       AJAX ST          217.0  \n",
       "8    1029.0    5078.0   0.001551     ALBERT ST           81.0  \n",
       "9    1036.0    6218.0   0.001059  ALEXANDRA ST           22.0  "
      ]
     },
     "execution_count": 39,
     "metadata": {},
     "output_type": "execute_result"
    }
   ],
   "source": [
    "merged.head(10)"
   ]
  },
  {
   "cell_type": "markdown",
   "id": "a6227c24",
   "metadata": {},
   "source": [
    "## CLEAN UP THE JOINED DATA"
   ]
  },
  {
   "cell_type": "code",
   "execution_count": null,
   "id": "2de21715",
   "metadata": {},
   "outputs": [],
   "source": [
    "# Divide number of calls by street segment length to get calls per length metric\n"
   ]
  },
  {
   "cell_type": "markdown",
   "id": "d7137161",
   "metadata": {},
   "source": [
    "## WRITE TO FILE"
   ]
  },
  {
   "cell_type": "code",
   "execution_count": 256,
   "id": "7f17360e",
   "metadata": {},
   "outputs": [],
   "source": [
    "gdf_output = dissolved_streets_gdf"
   ]
  },
  {
   "cell_type": "code",
   "execution_count": 262,
   "id": "998d29ce",
   "metadata": {},
   "outputs": [],
   "source": [
    "#gdf_output.to_file('../data/gps.gpkg', driver='GPKG', layer='gps')  \n",
    "gdf_output.to_file('../data/gps.geojson', driver='GeoJSON')"
   ]
  },
  {
   "cell_type": "code",
   "execution_count": null,
   "id": "d8bd091f",
   "metadata": {},
   "outputs": [],
   "source": []
  }
 ],
 "metadata": {
  "kernelspec": {
   "display_name": "Python 3.9.15 ('geo')",
   "language": "python",
   "name": "python3"
  },
  "language_info": {
   "codemirror_mode": {
    "name": "ipython",
    "version": 3
   },
   "file_extension": ".py",
   "mimetype": "text/x-python",
   "name": "python",
   "nbconvert_exporter": "python",
   "pygments_lexer": "ipython3",
   "version": "3.9.15"
  },
  "vscode": {
   "interpreter": {
    "hash": "e6951770d280f3541654a6a09de8cece224bf81f98ddfdbadb0351c337e35836"
   }
  }
 },
 "nbformat": 4,
 "nbformat_minor": 5
}
